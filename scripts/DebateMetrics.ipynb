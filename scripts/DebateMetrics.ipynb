{
 "cells": [
  {
   "cell_type": "code",
   "execution_count": 53,
   "metadata": {},
   "outputs": [],
   "source": [
    "import pandas as pd\n",
    "import igraph as ig\n",
    "import matplotlib.pyplot as plt\n",
    "import numpy as np"
   ]
  },
  {
   "cell_type": "code",
   "execution_count": 54,
   "metadata": {},
   "outputs": [
    {
     "data": {
      "text/html": [
       "<div>\n",
       "<style scoped>\n",
       "    .dataframe tbody tr th:only-of-type {\n",
       "        vertical-align: middle;\n",
       "    }\n",
       "\n",
       "    .dataframe tbody tr th {\n",
       "        vertical-align: top;\n",
       "    }\n",
       "\n",
       "    .dataframe thead th {\n",
       "        text-align: right;\n",
       "    }\n",
       "</style>\n",
       "<table border=\"1\" class=\"dataframe\">\n",
       "  <thead>\n",
       "    <tr style=\"text-align: right;\">\n",
       "      <th></th>\n",
       "      <th>comment_id</th>\n",
       "      <th>post_id</th>\n",
       "      <th>debate_group</th>\n",
       "      <th>comment_user_name</th>\n",
       "      <th>commented_user_name</th>\n",
       "      <th>comment_body</th>\n",
       "      <th>comment_score</th>\n",
       "    </tr>\n",
       "  </thead>\n",
       "  <tbody>\n",
       "    <tr>\n",
       "      <th>0</th>\n",
       "      <td>ki3k2mh</td>\n",
       "      <td>197vo6o</td>\n",
       "      <td>1</td>\n",
       "      <td>SurprysE</td>\n",
       "      <td>Odd_Sentence_2618</td>\n",
       "      <td>BOIA SI! Basta guardare da dove sono registrat...</td>\n",
       "      <td>11</td>\n",
       "    </tr>\n",
       "    <tr>\n",
       "      <th>1</th>\n",
       "      <td>ki5i0gd</td>\n",
       "      <td>197vo6o</td>\n",
       "      <td>1</td>\n",
       "      <td>SurprysE</td>\n",
       "      <td>the_white_cloud</td>\n",
       "      <td>Non fa una grinza, ma metti in movimento il tu...</td>\n",
       "      <td>1</td>\n",
       "    </tr>\n",
       "    <tr>\n",
       "      <th>2</th>\n",
       "      <td>ki4y2a5</td>\n",
       "      <td>197vo6o</td>\n",
       "      <td>1</td>\n",
       "      <td>SurprysE</td>\n",
       "      <td>the_white_cloud</td>\n",
       "      <td>Sono bot che fanno un minimo di attività per e...</td>\n",
       "      <td>1</td>\n",
       "    </tr>\n",
       "    <tr>\n",
       "      <th>3</th>\n",
       "      <td>ki3r883</td>\n",
       "      <td>197vo6o</td>\n",
       "      <td>1</td>\n",
       "      <td>theseawillclaim</td>\n",
       "      <td>zombilives</td>\n",
       "      <td>Ma immagino, anche il suo brand è sempre in ro...</td>\n",
       "      <td>12</td>\n",
       "    </tr>\n",
       "    <tr>\n",
       "      <th>4</th>\n",
       "      <td>ki3jhkw</td>\n",
       "      <td>197vo6o</td>\n",
       "      <td>2</td>\n",
       "      <td>Polaroid1793</td>\n",
       "      <td>TURBINEFABRIK74</td>\n",
       "      <td>Non ho mai visto una persona in vita mia camb...</td>\n",
       "      <td>3</td>\n",
       "    </tr>\n",
       "  </tbody>\n",
       "</table>\n",
       "</div>"
      ],
      "text/plain": [
       "  comment_id  post_id debate_group comment_user_name commented_user_name  \\\n",
       "0    ki3k2mh  197vo6o            1          SurprysE   Odd_Sentence_2618   \n",
       "1    ki5i0gd  197vo6o            1          SurprysE     the_white_cloud   \n",
       "2    ki4y2a5  197vo6o            1          SurprysE     the_white_cloud   \n",
       "3    ki3r883  197vo6o            1   theseawillclaim          zombilives   \n",
       "4    ki3jhkw  197vo6o            2      Polaroid1793     TURBINEFABRIK74   \n",
       "\n",
       "                                        comment_body comment_score  \n",
       "0  BOIA SI! Basta guardare da dove sono registrat...            11  \n",
       "1  Non fa una grinza, ma metti in movimento il tu...             1  \n",
       "2  Sono bot che fanno un minimo di attività per e...             1  \n",
       "3  Ma immagino, anche il suo brand è sempre in ro...            12  \n",
       "4   Non ho mai visto una persona in vita mia camb...             3  "
      ]
     },
     "execution_count": 54,
     "metadata": {},
     "output_type": "execute_result"
    }
   ],
   "source": [
    "df = pd.read_csv('../debate_dataset.csv')\n",
    "df.head()"
   ]
  },
  {
   "cell_type": "code",
   "execution_count": 55,
   "metadata": {},
   "outputs": [],
   "source": [
    "post_id_dict = {}\n",
    "dataframe_list = []\n",
    "for post_id in df['post_id'].unique():\n",
    "    dataframe = df[df['post_id'] == post_id]\n",
    "    dataframe_list.append(dataframe)\n",
    "    post_id_dict[post_id] = dataframe"
   ]
  },
  {
   "cell_type": "code",
   "execution_count": 56,
   "metadata": {},
   "outputs": [],
   "source": [
    "def create_graph_from_dataframe(dataframe):\n",
    "    graph = ig.Graph(directed=True)\n",
    "    graph.add_vertex(name='root', label='root')\n",
    "    for comment in dataframe.iterrows():\n",
    "        if comment[1]['comment_user_name'] not in graph.vs['name']:\n",
    "            graph.add_vertex(name=comment[1]['comment_user_name'], label=comment[1]['comment_user_name'])\n",
    "        if comment[1]['commented_user_name'] not in graph.vs['name']:\n",
    "            graph.add_vertex(name=comment[1]['commented_user_name'], label=comment[1]['commented_user_name'])\n",
    "        graph.add_edge(comment[1]['comment_user_name'], comment[1]['commented_user_name'])\n",
    "    \n",
    "    graph.delete_vertices('root')\n",
    "    return graph\n",
    "\n",
    "post_id_graph = {}\n",
    "for dataframe in dataframe_list:\n",
    "    graph = create_graph_from_dataframe(dataframe)\n",
    "    post_id_graph[dataframe['post_id'].iloc[0]] = graph"
   ]
  },
  {
   "cell_type": "markdown",
   "metadata": {},
   "source": [
    "# Metriche di valutazione dei grafi di dibattitio"
   ]
  },
  {
   "cell_type": "markdown",
   "metadata": {},
   "source": [
    "## Metriche sul POST"
   ]
  },
  {
   "cell_type": "markdown",
   "metadata": {},
   "source": [
    "### Calcolo dell' average degree\n",
    "Calcolando l'average degree di ciascun post, è possibile farsi un'idea generale di quanto gli utenti tendono ad interagire tra di loro "
   ]
  },
  {
   "cell_type": "code",
   "execution_count": 57,
   "metadata": {},
   "outputs": [],
   "source": [
    "def degree_distribution(graph):\n",
    "    degree = graph.degree()\n",
    "    n = graph.vcount()\n",
    "    degree = np.array(degree)\n",
    "\n",
    "    return 1/n * sum(degree)"
   ]
  },
  {
   "cell_type": "markdown",
   "metadata": {},
   "source": [
    "### Distribuzione dei gradi\n",
    "Questo grafico ci permette di osservare la distribuzione dei gradi di ogni nodo all'interno del grafo, offrendo una visione chiara del livello di interazione degli utenti. **Qual è la percentuale di utenti che hanno interagito poco/tanto con il post?**"
   ]
  },
  {
   "cell_type": "code",
   "execution_count": 58,
   "metadata": {},
   "outputs": [],
   "source": [
    "def compute_degree_distribution(graph):\n",
    "    degree = graph.degree()\n",
    "    x = np.unique(degree)\n",
    "    degree = np.array(degree)\n",
    "    y = []\n",
    "    for i in x:\n",
    "        y.append(sum(degree == i)/ len(degree)) \n",
    "    return x, y"
   ]
  },
  {
   "cell_type": "code",
   "execution_count": 59,
   "metadata": {},
   "outputs": [
    {
     "name": "stdout",
     "output_type": "stream",
     "text": [
      "Post:197vo6o as average degree of 6.125\n",
      "Post:19aeo2k as average degree of 6.909090909090909\n",
      "Post:1b6cg4q as average degree of 9.555555555555555\n",
      "Post:1cwqkqe as average degree of 10.058823529411764\n",
      "Post:1bulhj9 as average degree of 10.185567010309278\n",
      "Post:1d5h5h6 as average degree of 8.779220779220779\n",
      "Post:17z2hci as average degree of 11.326315789473684\n",
      "Post:17lese9 as average degree of 10.13953488372093\n",
      "Post:10v8sey as average degree of 9.85858585858586\n",
      "Post:post_id as average degree of 1.0\n"
     ]
    },
    {
     "data": {
      "image/png": "[encoded data removed]",
      "text/plain": [
       "<Figure size 640x480 with 1 Axes>"
      ]
     },
     "metadata": {},
     "output_type": "display_data"
    }
   ],
   "source": [
    "for post_graph in post_id_graph:\n",
    "    print(f'Post:{post_graph} as average degree of {degree_distribution(post_id_graph[post_graph])}')\n",
    "    x, y = compute_degree_distribution(post_id_graph[post_graph])\n",
    "    plt.scatter(x, y)\n",
    "    plt.xlabel('Degree')\n",
    "    plt.ylabel('Probability')\n",
    "    plt.title('Degree distribution')\n",
    "\n",
    "plt.legend(post_id_graph.keys())\n",
    "plt.show()"
   ]
  },
  {
   "cell_type": "markdown",
   "metadata": {},
   "source": [
    "## Metriche sul Dibattito"
   ]
  },
  {
   "cell_type": "markdown",
   "metadata": {},
   "source": [
    "### Coefficiente di clustering medio\n",
    "Tramite il coefficiente di clustring medio possiamo ottenere una misura golbale del grado di coesione degli utenti all'interno della dibattito, ovvero quanto gli utenti hanno interagito tra di loro all'interno della discussione in questione."
   ]
  },
  {
   "cell_type": "code",
   "execution_count": 60,
   "metadata": {},
   "outputs": [],
   "source": [
    "def compute_average_clustering_coefficient(graph):\n",
    "    clustering_medio = graph.transitivity_avglocal_undirected()\n",
    "    if clustering_medio != clustering_medio:\n",
    "        clustering_medio = 0.0\n",
    "    \n",
    "    return clustering_medio"
   ]
  },
  {
   "cell_type": "code",
   "execution_count": 61,
   "metadata": {},
   "outputs": [],
   "source": [
    "for post_df in post_id_dict.values():\n",
    "    post_id = post_df['post_id'].iloc[0]\n",
    "    for debate_id in post_df['debate_group'].unique():\n",
    "        if debate_id != '0':\n",
    "            debate_df = post_df[post_df['debate_group'] == debate_id]\n",
    "            graph = create_graph_from_dataframe(debate_df)"
   ]
  },
  {
   "cell_type": "code",
   "execution_count": 63,
   "metadata": {},
   "outputs": [
    {
     "name": "stdout",
     "output_type": "stream",
     "text": [
      "Post:197vo6o Debate:1 n_nodes:1.0 n_edges:1.0 avg_degree:3.176470588235294 clustering_coefficient:0.0\n",
      "Post:197vo6o Debate:2 n_nodes:0.11764705882352941 n_edges:0.1111111111111111 avg_degree:3.0 clustering_coefficient:0.0\n",
      "Post:197vo6o Debate:3 n_nodes:0.17647058823529413 n_edges:0.1111111111111111 avg_degree:2.0 clustering_coefficient:0.0\n",
      "Post:197vo6o Debate:4 n_nodes:0.6470588235294118 n_edges:0.5925925925925926 avg_degree:2.909090909090909 clustering_coefficient:0.0\n",
      "Post:197vo6o Debate:7 n_nodes:1.0 n_edges:1.0 avg_degree:3.176470588235294 clustering_coefficient:0.0\n",
      "Post:197vo6o Debate:8 n_nodes:0.11764705882352941 n_edges:0.1111111111111111 avg_degree:3.0 clustering_coefficient:0.0\n",
      "Post:197vo6o Debate:9 n_nodes:0.17647058823529413 n_edges:0.1111111111111111 avg_degree:2.0 clustering_coefficient:0.0\n",
      "Post:197vo6o Debate:5 n_nodes:0.6470588235294118 n_edges:0.5925925925925926 avg_degree:2.909090909090909 clustering_coefficient:0.0\n",
      "Post:19aeo2k Debate:5 n_nodes:0.35294117647058826 n_edges:0.25925925925925924 avg_degree:2.333333333333333 clustering_coefficient:0.0\n",
      "Post:19aeo2k Debate:6 n_nodes:0.23529411764705882 n_edges:0.14814814814814814 avg_degree:2.0 clustering_coefficient:0.0\n",
      "Post:19aeo2k Debate:2 n_nodes:0.9411764705882353 n_edges:1.0740740740740742 avg_degree:3.625 clustering_coefficient:0.0\n",
      "Post:19aeo2k Debate:3 n_nodes:0.29411764705882354 n_edges:0.2222222222222222 avg_degree:2.4000000000000004 clustering_coefficient:0.0\n",
      "Post:19aeo2k Debate:7 n_nodes:0.23529411764705882 n_edges:0.4444444444444444 avg_degree:6.0 clustering_coefficient:0.0\n",
      "Post:19aeo2k Debate:4 n_nodes:0.17647058823529413 n_edges:0.1111111111111111 avg_degree:2.0 clustering_coefficient:0.0\n",
      "Post:19aeo2k Debate:8 n_nodes:1.0588235294117647 n_edges:1.1851851851851851 avg_degree:3.5555555555555554 clustering_coefficient:0.0\n",
      "Post:19aeo2k Debate:11 n_nodes:0.23529411764705882 n_edges:0.14814814814814814 avg_degree:2.0 clustering_coefficient:0.0\n",
      "Post:19aeo2k Debate:9 n_nodes:0.11764705882352941 n_edges:0.07407407407407407 avg_degree:2.0 clustering_coefficient:0.0\n",
      "Post:19aeo2k Debate:15 n_nodes:0.23529411764705882 n_edges:0.4444444444444444 avg_degree:6.0 clustering_coefficient:0.0\n",
      "Post:19aeo2k Debate:16 n_nodes:0.11764705882352941 n_edges:0.1111111111111111 avg_degree:3.0 clustering_coefficient:0.0\n",
      "Post:1b6cg4q Debate:9 n_nodes:4.411764705882353 n_edges:6.222222222222222 avg_degree:4.48 clustering_coefficient:0.09120370370370372\n",
      "Post:1b6cg4q Debate:6 n_nodes:0.6470588235294118 n_edges:0.5185185185185185 avg_degree:2.5454545454545454 clustering_coefficient:0.0\n",
      "Post:1b6cg4q Debate:10 n_nodes:4.588235294117647 n_edges:6.7407407407407405 avg_degree:4.666666666666666 clustering_coefficient:0.08873873873873875\n",
      "Post:1b6cg4q Debate:11 n_nodes:0.7647058823529411 n_edges:0.9259259259259259 avg_degree:3.8461538461538463 clustering_coefficient:0.0\n",
      "Post:1b6cg4q Debate:1 n_nodes:0.11764705882352941 n_edges:0.18518518518518517 avg_degree:5.0 clustering_coefficient:0.0\n",
      "Post:1b6cg4q Debate:12 n_nodes:0.35294117647058826 n_edges:0.6296296296296297 avg_degree:5.666666666666666 clustering_coefficient:0.0\n",
      "Post:1b6cg4q Debate:13 n_nodes:0.11764705882352941 n_edges:0.4074074074074074 avg_degree:11.0 clustering_coefficient:0.0\n",
      "Post:1b6cg4q Debate:7 n_nodes:0.11764705882352941 n_edges:0.18518518518518517 avg_degree:5.0 clustering_coefficient:0.0\n",
      "Post:1b6cg4q Debate:14 n_nodes:0.11764705882352941 n_edges:0.1111111111111111 avg_degree:3.0 clustering_coefficient:0.0\n",
      "Post:1cwqkqe Debate:13 n_nodes:0.11764705882352941 n_edges:0.18518518518518517 avg_degree:5.0 clustering_coefficient:0.0\n",
      "Post:1cwqkqe Debate:14 n_nodes:3.6470588235294117 n_edges:5.962962962962963 avg_degree:5.193548387096774 clustering_coefficient:0.04081632653061225\n",
      "Post:1cwqkqe Debate:15 n_nodes:0.23529411764705882 n_edges:0.18518518518518517 avg_degree:2.5 clustering_coefficient:0.0\n",
      "Post:1cwqkqe Debate:24 n_nodes:0.11764705882352941 n_edges:0.18518518518518517 avg_degree:5.0 clustering_coefficient:0.0\n",
      "Post:1cwqkqe Debate:2 n_nodes:3.6470588235294117 n_edges:5.962962962962963 avg_degree:5.193548387096774 clustering_coefficient:0.04081632653061225\n",
      "Post:1cwqkqe Debate:25 n_nodes:0.23529411764705882 n_edges:0.18518518518518517 avg_degree:2.5 clustering_coefficient:0.0\n",
      "Post:1bulhj9 Debate:16 n_nodes:4.411764705882353 n_edges:7.444444444444445 avg_degree:5.36 clustering_coefficient:0.15146645021645022\n",
      "Post:1bulhj9 Debate:5 n_nodes:0.17647058823529413 n_edges:0.2962962962962963 avg_degree:5.333333333333333 clustering_coefficient:1.0\n",
      "Post:1bulhj9 Debate:17 n_nodes:5.0588235294117645 n_edges:8.11111111111111 avg_degree:5.093023255813954 clustering_coefficient:0.13463684463684464\n",
      "Post:1bulhj9 Debate:18 n_nodes:0.8235294117647058 n_edges:0.8888888888888888 avg_degree:3.4285714285714284 clustering_coefficient:0.0\n",
      "Post:1bulhj9 Debate:19 n_nodes:0.29411764705882354 n_edges:0.4074074074074074 avg_degree:4.4 clustering_coefficient:0.0\n",
      "Post:1bulhj9 Debate:20 n_nodes:0.23529411764705882 n_edges:0.25925925925925924 avg_degree:3.5 clustering_coefficient:0.0\n",
      "Post:1bulhj9 Debate:21 n_nodes:0.23529411764705882 n_edges:0.18518518518518517 avg_degree:2.5 clustering_coefficient:0.0\n",
      "Post:1bulhj9 Debate:22 n_nodes:0.23529411764705882 n_edges:0.25925925925925924 avg_degree:3.5 clustering_coefficient:0.0\n",
      "Post:1bulhj9 Debate:3 n_nodes:0.17647058823529413 n_edges:0.2962962962962963 avg_degree:5.333333333333333 clustering_coefficient:1.0\n",
      "Post:1bulhj9 Debate:23 n_nodes:0.11764705882352941 n_edges:0.14814814814814814 avg_degree:4.0 clustering_coefficient:0.0\n",
      "Post:1d5h5h6 Debate:23 n_nodes:0.17647058823529413 n_edges:0.1111111111111111 avg_degree:2.0 clustering_coefficient:0.0\n",
      "Post:1d5h5h6 Debate:14 n_nodes:0.5882352941176471 n_edges:0.6666666666666666 avg_degree:3.6 clustering_coefficient:0.0\n",
      "Post:1d5h5h6 Debate:5 n_nodes:1.3529411764705883 n_edges:1.4814814814814814 avg_degree:3.4782608695652173 clustering_coefficient:0.1261904761904762\n",
      "Post:1d5h5h6 Debate:24 n_nodes:2.3529411764705883 n_edges:3.814814814814815 avg_degree:5.15 clustering_coefficient:0.09932659932659932\n",
      "Post:1d5h5h6 Debate:4 n_nodes:2.5294117647058822 n_edges:3.962962962962963 avg_degree:4.976744186046512 clustering_coefficient:0.09409888357256778\n",
      "Post:1d5h5h6 Debate:25 n_nodes:0.23529411764705882 n_edges:0.18518518518518517 avg_degree:2.5 clustering_coefficient:0.0\n",
      "Post:1d5h5h6 Debate:1 n_nodes:0.17647058823529413 n_edges:0.1111111111111111 avg_degree:2.0 clustering_coefficient:0.0\n",
      "Post:1d5h5h6 Debate:2 n_nodes:0.5882352941176471 n_edges:0.6666666666666666 avg_degree:3.6 clustering_coefficient:0.0\n",
      "Post:1d5h5h6 Debate:3 n_nodes:1.1764705882352942 n_edges:1.3333333333333333 avg_degree:3.6 clustering_coefficient:0.1419642857142857\n",
      "Post:1d5h5h6 Debate:6 n_nodes:0.23529411764705882 n_edges:0.18518518518518517 avg_degree:2.5 clustering_coefficient:0.0\n",
      "Post:17z2hci Debate:8 n_nodes:5.352941176470588 n_edges:9.74074074074074 avg_degree:5.780219780219781 clustering_coefficient:0.2157581647377566\n",
      "Post:17z2hci Debate:26 n_nodes:0.17647058823529413 n_edges:0.1111111111111111 avg_degree:2.0 clustering_coefficient:0.0\n",
      "Post:17z2hci Debate:27 n_nodes:0.17647058823529413 n_edges:0.1111111111111111 avg_degree:2.0 clustering_coefficient:0.0\n",
      "Post:17z2hci Debate:16 n_nodes:5.352941176470588 n_edges:9.74074074074074 avg_degree:5.780219780219781 clustering_coefficient:0.2157581647377566\n",
      "Post:17z2hci Debate:28 n_nodes:0.17647058823529413 n_edges:0.1111111111111111 avg_degree:2.0 clustering_coefficient:0.0\n",
      "Post:17z2hci Debate:29 n_nodes:0.17647058823529413 n_edges:0.1111111111111111 avg_degree:2.0 clustering_coefficient:0.0\n",
      "Post:17lese9 Debate:28 n_nodes:2.411764705882353 n_edges:3.962962962962963 avg_degree:5.219512195121951 clustering_coefficient:0.14956622325043378\n",
      "Post:17lese9 Debate:29 n_nodes:0.11764705882352941 n_edges:0.07407407407407407 avg_degree:2.0 clustering_coefficient:0.0\n",
      "Post:17lese9 Debate:26 n_nodes:2.411764705882353 n_edges:3.962962962962963 avg_degree:5.219512195121951 clustering_coefficient:0.14956622325043378\n",
      "Post:17lese9 Debate:27 n_nodes:0.11764705882352941 n_edges:0.07407407407407407 avg_degree:2.0 clustering_coefficient:0.0\n",
      "Post:10v8sey Debate:30 n_nodes:4.588235294117647 n_edges:15.407407407407407 avg_degree:10.666666666666666 clustering_coefficient:0.09771882963372325\n",
      "Post:10v8sey Debate:6 n_nodes:0.47058823529411764 n_edges:0.37037037037037035 avg_degree:2.5 clustering_coefficient:0.0\n",
      "Post:10v8sey Debate:31 n_nodes:0.23529411764705882 n_edges:0.37037037037037035 avg_degree:5.0 clustering_coefficient:0.0\n",
      "Post:10v8sey Debate:32 n_nodes:0.23529411764705882 n_edges:0.7407407407407407 avg_degree:10.0 clustering_coefficient:0.0\n",
      "Post:10v8sey Debate:33 n_nodes:0.11764705882352941 n_edges:0.2962962962962963 avg_degree:8.0 clustering_coefficient:0.0\n",
      "Post:10v8sey Debate:34 n_nodes:0.29411764705882354 n_edges:0.5185185185185185 avg_degree:5.6000000000000005 clustering_coefficient:0.0\n",
      "Post:10v8sey Debate:11 n_nodes:0.47058823529411764 n_edges:0.37037037037037035 avg_degree:2.5 clustering_coefficient:0.0\n",
      "Post:post_id Debate:debate_group n_nodes:0.11764705882352941 n_edges:0.037037037037037035 avg_degree:1.0 clustering_coefficient:0.0\n"
     ]
    }
   ],
   "source": [
    "def compute_debate_relevance(debate, graph):\n",
    "    n_graph_nodes = graph.vcount()\n",
    "    n_graph_edges = graph.ecount()\n",
    "    n_nodes = debate.vcount()/n_graph_nodes\n",
    "    n_edges = debate.ecount()/n_graph_edges\n",
    "    avg_degree = degree_distribution(debate)\n",
    "    clustering_coefficient = compute_average_clustering_coefficient(debate)\n",
    "    return n_nodes + n_edges + avg_degree + clustering_coefficient\n",
    "\n",
    "for post_df in post_id_dict.values():\n",
    "    post_id = post_df['post_id'].iloc[0]\n",
    "    for debate_id in post_df['debate_group'].unique():\n",
    "        if debate_id != '0':\n",
    "            debate_df = post_df[post_df['debate_group'] == debate_id]\n",
    "            debate_graph = create_graph_from_dataframe(debate_df)\n",
    "            n_nodes, n_edges, avg_degree, clustering_coefficient = compute_debate_relevance(debate_graph, graph)\n",
    "            print(f'Post:{post_id} Debate:{debate_id} n_nodes:{n_nodes} n_edges:{n_edges} avg_degree:{avg_degree} clustering_coefficient:{clustering_coefficient}')"
   ]
  }
 ],
 "metadata": {
  "kernelspec": {
   "display_name": "reddit_debate_venv",
   "language": "python",
   "name": "python3"
  },
  "language_info": {
   "codemirror_mode": {
    "name": "ipython",
    "version": 3
   },
   "file_extension": ".py",
   "mimetype": "text/x-python",
   "name": "python",
   "nbconvert_exporter": "python",
   "pygments_lexer": "ipython3",
   "version": "3.10.12"
  }
 },
 "nbformat": 4,
 "nbformat_minor": 2
}
