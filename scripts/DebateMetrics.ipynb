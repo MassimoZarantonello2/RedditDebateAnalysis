{
 "cells": [
  {
   "cell_type": "code",
   "execution_count": 52,
   "metadata": {},
   "outputs": [],
   "source": [
    "import pandas as pd\n",
    "import igraph as ig\n",
    "import matplotlib.pyplot as plt\n",
    "import numpy as np"
   ]
  },
  {
   "cell_type": "code",
   "execution_count": 53,
   "metadata": {},
   "outputs": [
    {
     "data": {
      "text/html": [
       "<div>\n",
       "<style scoped>\n",
       "    .dataframe tbody tr th:only-of-type {\n",
       "        vertical-align: middle;\n",
       "    }\n",
       "\n",
       "    .dataframe tbody tr th {\n",
       "        vertical-align: top;\n",
       "    }\n",
       "\n",
       "    .dataframe thead th {\n",
       "        text-align: right;\n",
       "    }\n",
       "</style>\n",
       "<table border=\"1\" class=\"dataframe\">\n",
       "  <thead>\n",
       "    <tr style=\"text-align: right;\">\n",
       "      <th></th>\n",
       "      <th>comment_id</th>\n",
       "      <th>post_id</th>\n",
       "      <th>debate_group</th>\n",
       "      <th>comment_user_name</th>\n",
       "      <th>commented_user_name</th>\n",
       "      <th>comment_body</th>\n",
       "      <th>comment_score</th>\n",
       "    </tr>\n",
       "  </thead>\n",
       "  <tbody>\n",
       "    <tr>\n",
       "      <th>0</th>\n",
       "      <td>ki3k2mh</td>\n",
       "      <td>197vo6o</td>\n",
       "      <td>1</td>\n",
       "      <td>SurprysE</td>\n",
       "      <td>Odd_Sentence_2618</td>\n",
       "      <td>BOIA SI! Basta guardare da dove sono registrat...</td>\n",
       "      <td>11</td>\n",
       "    </tr>\n",
       "    <tr>\n",
       "      <th>1</th>\n",
       "      <td>ki5i0gd</td>\n",
       "      <td>197vo6o</td>\n",
       "      <td>1</td>\n",
       "      <td>SurprysE</td>\n",
       "      <td>the_white_cloud</td>\n",
       "      <td>Non fa una grinza, ma metti in movimento il tu...</td>\n",
       "      <td>1</td>\n",
       "    </tr>\n",
       "    <tr>\n",
       "      <th>2</th>\n",
       "      <td>ki4y2a5</td>\n",
       "      <td>197vo6o</td>\n",
       "      <td>1</td>\n",
       "      <td>SurprysE</td>\n",
       "      <td>the_white_cloud</td>\n",
       "      <td>Sono bot che fanno un minimo di attività per e...</td>\n",
       "      <td>1</td>\n",
       "    </tr>\n",
       "    <tr>\n",
       "      <th>3</th>\n",
       "      <td>ki3r883</td>\n",
       "      <td>197vo6o</td>\n",
       "      <td>1</td>\n",
       "      <td>theseawillclaim</td>\n",
       "      <td>zombilives</td>\n",
       "      <td>Ma immagino, anche il suo brand è sempre in ro...</td>\n",
       "      <td>12</td>\n",
       "    </tr>\n",
       "    <tr>\n",
       "      <th>4</th>\n",
       "      <td>ki3jhkw</td>\n",
       "      <td>197vo6o</td>\n",
       "      <td>2</td>\n",
       "      <td>Polaroid1793</td>\n",
       "      <td>TURBINEFABRIK74</td>\n",
       "      <td>Non ho mai visto una persona in vita mia camb...</td>\n",
       "      <td>3</td>\n",
       "    </tr>\n",
       "  </tbody>\n",
       "</table>\n",
       "</div>"
      ],
      "text/plain": [
       "  comment_id  post_id  debate_group comment_user_name commented_user_name  \\\n",
       "0    ki3k2mh  197vo6o             1          SurprysE   Odd_Sentence_2618   \n",
       "1    ki5i0gd  197vo6o             1          SurprysE     the_white_cloud   \n",
       "2    ki4y2a5  197vo6o             1          SurprysE     the_white_cloud   \n",
       "3    ki3r883  197vo6o             1   theseawillclaim          zombilives   \n",
       "4    ki3jhkw  197vo6o             2      Polaroid1793     TURBINEFABRIK74   \n",
       "\n",
       "                                        comment_body  comment_score  \n",
       "0  BOIA SI! Basta guardare da dove sono registrat...             11  \n",
       "1  Non fa una grinza, ma metti in movimento il tu...              1  \n",
       "2  Sono bot che fanno un minimo di attività per e...              1  \n",
       "3  Ma immagino, anche il suo brand è sempre in ro...             12  \n",
       "4   Non ho mai visto una persona in vita mia camb...              3  "
      ]
     },
     "execution_count": 53,
     "metadata": {},
     "output_type": "execute_result"
    }
   ],
   "source": [
    "df = pd.read_csv('../debate_dataset.csv')\n",
    "df.head()"
   ]
  },
  {
   "cell_type": "code",
   "execution_count": 54,
   "metadata": {},
   "outputs": [],
   "source": [
    "post_id_dict = {}\n",
    "dataframe_list = []\n",
    "for post_id in df['post_id'].unique():\n",
    "    dataframe = df[df['post_id'] == post_id]\n",
    "    dataframe_list.append(dataframe)\n",
    "    post_id_dict[post_id] = dataframe"
   ]
  },
  {
   "cell_type": "code",
   "execution_count": 55,
   "metadata": {},
   "outputs": [],
   "source": [
    "def create_graph_from_dataframe(dataframe):\n",
    "    graph = ig.Graph(directed=True)\n",
    "    graph.add_vertex(name='root', label='root')\n",
    "    for comment in dataframe.iterrows():\n",
    "        if comment[1]['comment_user_name'] not in graph.vs['name']:\n",
    "            graph.add_vertex(name=comment[1]['comment_user_name'], label=comment[1]['comment_user_name'])\n",
    "        if comment[1]['commented_user_name'] not in graph.vs['name']:\n",
    "            graph.add_vertex(name=comment[1]['commented_user_name'], label=comment[1]['commented_user_name'])\n",
    "        graph.add_edge(comment[1]['comment_user_name'], comment[1]['commented_user_name'])\n",
    "    \n",
    "    graph.delete_vertices('root')\n",
    "    return graph\n",
    "\n",
    "post_id_graph = {}\n",
    "for dataframe in dataframe_list:\n",
    "    graph = create_graph_from_dataframe(dataframe)\n",
    "    post_id_graph[dataframe['post_id'].iloc[0]] = graph"
   ]
  },
  {
   "cell_type": "markdown",
   "metadata": {},
   "source": [
    "# Metriche di valutazione dei grafi di dibattitio"
   ]
  },
  {
   "cell_type": "markdown",
   "metadata": {},
   "source": [
    "## Metriche sul POST"
   ]
  },
  {
   "cell_type": "markdown",
   "metadata": {},
   "source": [
    "### Calcolo dell' average degree\n",
    "Calcolando l'average degree di ciascun post, è possibile farsi un'idea generale di quanto gli utenti tendono ad interagire tra di loro "
   ]
  },
  {
   "cell_type": "code",
   "execution_count": 56,
   "metadata": {},
   "outputs": [],
   "source": [
    "def degree_distribution(graph):\n",
    "    degree = graph.degree()\n",
    "    n = graph.vcount()\n",
    "    degree = np.array(degree)\n",
    "\n",
    "    return 1/n * sum(degree)"
   ]
  },
  {
   "cell_type": "markdown",
   "metadata": {},
   "source": [
    "### Distribuzione dei gradi\n",
    "Questo grafico ci permette di osservare la distribuzione dei gradi di ogni nodo all'interno del grafo, offrendo una visione chiara del livello di interazione degli utenti. **Qual è la percentuale di utenti che hanno interagito poco/tanto con il post?**"
   ]
  },
  {
   "cell_type": "code",
   "execution_count": 57,
   "metadata": {},
   "outputs": [],
   "source": [
    "def compute_degree_distribution(graph):\n",
    "    degree = graph.degree()\n",
    "    x = np.unique(degree)\n",
    "    degree = np.array(degree)\n",
    "    y = []\n",
    "    for i in x:\n",
    "        y.append(sum(degree == i)/ len(degree)) \n",
    "    return x, y"
   ]
  },
  {
   "cell_type": "code",
   "execution_count": 58,
   "metadata": {},
   "outputs": [
    {
     "name": "stdout",
     "output_type": "stream",
     "text": [
      "Post:197vo6o as average degree of 3.0625\n",
      "Post:19aeo2k as average degree of 3.4545454545454546\n",
      "Post:1b6cg4q as average degree of 4.777777777777778\n",
      "Post:1cwqkqe as average degree of 5.029411764705882\n",
      "Post:1bulhj9 as average degree of 5.092783505154639\n",
      "Post:1d5h5h6 as average degree of 4.3896103896103895\n",
      "Post:17z2hci as average degree of 5.663157894736842\n",
      "Post:17lese9 as average degree of 5.069767441860465\n",
      "Post:10v8sey as average degree of 4.92929292929293\n"
     ]
    },
    {
     "data": {
      "image/png": "[encoded data removed]",
      "text/plain": [
       "<Figure size 640x480 with 1 Axes>"
      ]
     },
     "metadata": {},
     "output_type": "display_data"
    }
   ],
   "source": [
    "for post_graph in post_id_graph:\n",
    "    print(f'Post:{post_graph} as average degree of {degree_distribution(post_id_graph[post_graph])}')\n",
    "    x, y = compute_degree_distribution(post_id_graph[post_graph])\n",
    "    plt.scatter(x, y)\n",
    "    plt.xlabel('Degree')\n",
    "    plt.ylabel('Probability')\n",
    "    plt.title('Degree distribution')\n",
    "\n",
    "plt.legend(post_id_graph.keys())\n",
    "plt.show()"
   ]
  },
  {
   "cell_type": "markdown",
   "metadata": {},
   "source": [
    "## Metriche sul Dibattito"
   ]
  },
  {
   "cell_type": "markdown",
   "metadata": {},
   "source": [
    "### Coefficiente di clustering medio\n",
    "Tramite il coefficiente di clustring medio possiamo ottenere una misura golbale del grado di coesione degli utenti all'interno della dibattito, ovvero quanto gli utenti hanno interagito tra di loro all'interno della discussione in questione."
   ]
  },
  {
   "cell_type": "code",
   "execution_count": 59,
   "metadata": {},
   "outputs": [],
   "source": [
    "def compute_average_clustering_coefficient(graph):\n",
    "    return graph.transitivity_undirected()"
   ]
  },
  {
   "cell_type": "code",
   "execution_count": 61,
   "metadata": {},
   "outputs": [
    {
     "name": "stdout",
     "output_type": "stream",
     "text": [
      "Post:197vo6o Debate:1 has average clustering coefficient of 0.0\n",
      "Post:197vo6o Debate:2 has average clustering coefficient of nan\n",
      "Post:197vo6o Debate:3 has average clustering coefficient of 0.0\n",
      "Post:197vo6o Debate:4 has average clustering coefficient of 0.0\n",
      "Post:19aeo2k Debate:5 has average clustering coefficient of 0.0\n",
      "Post:19aeo2k Debate:6 has average clustering coefficient of 0.0\n",
      "Post:19aeo2k Debate:2 has average clustering coefficient of 0.0\n",
      "Post:19aeo2k Debate:3 has average clustering coefficient of nan\n",
      "Post:19aeo2k Debate:7 has average clustering coefficient of 0.0\n",
      "Post:19aeo2k Debate:4 has average clustering coefficient of 0.0\n",
      "Post:19aeo2k Debate:8 has average clustering coefficient of nan\n",
      "Post:1b6cg4q Debate:9 has average clustering coefficient of 0.04245283018867924\n",
      "Post:1b6cg4q Debate:6 has average clustering coefficient of 0.0\n",
      "Post:1b6cg4q Debate:10 has average clustering coefficient of 0.0\n",
      "Post:1b6cg4q Debate:11 has average clustering coefficient of nan\n",
      "Post:1b6cg4q Debate:1 has average clustering coefficient of nan\n",
      "Post:1b6cg4q Debate:12 has average clustering coefficient of nan\n",
      "Post:1cwqkqe Debate:13 has average clustering coefficient of nan\n",
      "Post:1cwqkqe Debate:14 has average clustering coefficient of 0.034482758620689655\n",
      "Post:1cwqkqe Debate:15 has average clustering coefficient of 0.0\n",
      "Post:1bulhj9 Debate:16 has average clustering coefficient of 0.06930693069306931\n",
      "Post:1bulhj9 Debate:5 has average clustering coefficient of 1.0\n",
      "Post:1bulhj9 Debate:17 has average clustering coefficient of 0.0\n",
      "Post:1bulhj9 Debate:18 has average clustering coefficient of 0.0\n",
      "Post:1bulhj9 Debate:19 has average clustering coefficient of nan\n",
      "Post:1bulhj9 Debate:20 has average clustering coefficient of nan\n",
      "Post:1bulhj9 Debate:21 has average clustering coefficient of nan\n",
      "Post:1bulhj9 Debate:22 has average clustering coefficient of nan\n",
      "Post:1d5h5h6 Debate:23 has average clustering coefficient of 0.0\n",
      "Post:1d5h5h6 Debate:14 has average clustering coefficient of 0.0\n",
      "Post:1d5h5h6 Debate:5 has average clustering coefficient of 0.058823529411764705\n",
      "Post:1d5h5h6 Debate:24 has average clustering coefficient of 0.0703125\n",
      "Post:1d5h5h6 Debate:4 has average clustering coefficient of 0.0\n",
      "Post:1d5h5h6 Debate:25 has average clustering coefficient of 0.0\n",
      "Post:17z2hci Debate:8 has average clustering coefficient of 0.08478260869565217\n",
      "Post:17z2hci Debate:26 has average clustering coefficient of 0.0\n",
      "Post:17z2hci Debate:27 has average clustering coefficient of 0.0\n",
      "Post:17lese9 Debate:28 has average clustering coefficient of 0.0371900826446281\n",
      "Post:17lese9 Debate:29 has average clustering coefficient of nan\n",
      "Post:10v8sey Debate:30 has average clustering coefficient of 0.08695652173913043\n",
      "Post:10v8sey Debate:6 has average clustering coefficient of 0.0\n",
      "Post:10v8sey Debate:31 has average clustering coefficient of 0.0\n",
      "Post:10v8sey Debate:32 has average clustering coefficient of 0.0\n",
      "Post:10v8sey Debate:33 has average clustering coefficient of nan\n",
      "Post:10v8sey Debate:34 has average clustering coefficient of 0.0\n"
     ]
    }
   ],
   "source": [
    "for post_df in post_id_dict.values():\n",
    "    for debate_id in post_df['debate_group'].unique():\n",
    "        debate_df = post_df[post_df['debate_group'] == debate_id]\n",
    "        graph = create_graph_from_dataframe(debate_df)\n",
    "        print(f'Post:{post_df[\"post_id\"].iloc[0]} Debate:{debate_id} has average clustering coefficient of {compute_average_clustering_coefficient(graph)}')"
   ]
  }
 ],
 "metadata": {
  "kernelspec": {
   "display_name": "reddit_debate_venv",
   "language": "python",
   "name": "python3"
  },
  "language_info": {
   "codemirror_mode": {
    "name": "ipython",
    "version": 3
   },
   "file_extension": ".py",
   "mimetype": "text/x-python",
   "name": "python",
   "nbconvert_exporter": "python",
   "pygments_lexer": "ipython3",
   "version": "3.10.12"
  }
 },
 "nbformat": 4,
 "nbformat_minor": 2
}
