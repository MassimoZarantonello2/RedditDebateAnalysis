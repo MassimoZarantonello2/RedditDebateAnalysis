{
 "cells": [
  {
   "cell_type": "code",
   "execution_count": 12,
   "metadata": {},
   "outputs": [],
   "source": [
    "import pandas as pd\n",
    "import igraph as ig\n",
    "import matplotlib.pyplot as plt\n",
    "import numpy as np"
   ]
  },
  {
   "cell_type": "code",
   "execution_count": 13,
   "metadata": {},
   "outputs": [
    {
     "data": {
      "text/html": [
       "<div>\n",
       "<style scoped>\n",
       "    .dataframe tbody tr th:only-of-type {\n",
       "        vertical-align: middle;\n",
       "    }\n",
       "\n",
       "    .dataframe tbody tr th {\n",
       "        vertical-align: top;\n",
       "    }\n",
       "\n",
       "    .dataframe thead th {\n",
       "        text-align: right;\n",
       "    }\n",
       "</style>\n",
       "<table border=\"1\" class=\"dataframe\">\n",
       "  <thead>\n",
       "    <tr style=\"text-align: right;\">\n",
       "      <th></th>\n",
       "      <th>comment_id</th>\n",
       "      <th>post_id</th>\n",
       "      <th>debate_group</th>\n",
       "      <th>comment_user_name</th>\n",
       "      <th>commented_user_name</th>\n",
       "      <th>comment_body</th>\n",
       "      <th>comment_score</th>\n",
       "    </tr>\n",
       "  </thead>\n",
       "  <tbody>\n",
       "    <tr>\n",
       "      <th>0</th>\n",
       "      <td>l52d6tu</td>\n",
       "      <td>1cwqkqe</td>\n",
       "      <td>1</td>\n",
       "      <td>Good_Anywhere1616</td>\n",
       "      <td>AirlineUnited</td>\n",
       "      <td>Bah penso che dovresti essere tu ad informarti...</td>\n",
       "      <td>2</td>\n",
       "    </tr>\n",
       "    <tr>\n",
       "      <th>1</th>\n",
       "      <td>l51mc66</td>\n",
       "      <td>1cwqkqe</td>\n",
       "      <td>1</td>\n",
       "      <td>Good_Anywhere1616</td>\n",
       "      <td>AirlineUnited</td>\n",
       "      <td>Che c'è gente che non ci vede un problema e an...</td>\n",
       "      <td>2</td>\n",
       "    </tr>\n",
       "    <tr>\n",
       "      <th>2</th>\n",
       "      <td>l4xzsgs</td>\n",
       "      <td>1cwqkqe</td>\n",
       "      <td>2</td>\n",
       "      <td>Bourbaki88</td>\n",
       "      <td>Stev-svart-88</td>\n",
       "      <td>Continui a fare il paragone con Sgarbi, come s...</td>\n",
       "      <td>15</td>\n",
       "    </tr>\n",
       "    <tr>\n",
       "      <th>3</th>\n",
       "      <td>l4xybvh</td>\n",
       "      <td>1cwqkqe</td>\n",
       "      <td>2</td>\n",
       "      <td>Bourbaki88</td>\n",
       "      <td>Stev-svart-88</td>\n",
       "      <td>No, quel processo è ancora in corso. \\n\\nÈ con...</td>\n",
       "      <td>11</td>\n",
       "    </tr>\n",
       "    <tr>\n",
       "      <th>4</th>\n",
       "      <td>l4xx1s6</td>\n",
       "      <td>1cwqkqe</td>\n",
       "      <td>2</td>\n",
       "      <td>Bourbaki88</td>\n",
       "      <td>Stev-svart-88</td>\n",
       "      <td>Anche la prima candidata di Alleanza Verdi Sin...</td>\n",
       "      <td>14</td>\n",
       "    </tr>\n",
       "  </tbody>\n",
       "</table>\n",
       "</div>"
      ],
      "text/plain": [
       "  comment_id  post_id  debate_group  comment_user_name commented_user_name  \\\n",
       "0    l52d6tu  1cwqkqe             1  Good_Anywhere1616       AirlineUnited   \n",
       "1    l51mc66  1cwqkqe             1  Good_Anywhere1616       AirlineUnited   \n",
       "2    l4xzsgs  1cwqkqe             2         Bourbaki88       Stev-svart-88   \n",
       "3    l4xybvh  1cwqkqe             2         Bourbaki88       Stev-svart-88   \n",
       "4    l4xx1s6  1cwqkqe             2         Bourbaki88       Stev-svart-88   \n",
       "\n",
       "                                        comment_body  comment_score  \n",
       "0  Bah penso che dovresti essere tu ad informarti...              2  \n",
       "1  Che c'è gente che non ci vede un problema e an...              2  \n",
       "2  Continui a fare il paragone con Sgarbi, come s...             15  \n",
       "3  No, quel processo è ancora in corso. \\n\\nÈ con...             11  \n",
       "4  Anche la prima candidata di Alleanza Verdi Sin...             14  "
      ]
     },
     "execution_count": 13,
     "metadata": {},
     "output_type": "execute_result"
    }
   ],
   "source": [
    "df = pd.read_csv('../debate_dataset.csv')\n",
    "df.head()"
   ]
  },
  {
   "cell_type": "code",
   "execution_count": 14,
   "metadata": {},
   "outputs": [],
   "source": [
    "post_id_dict = {}\n",
    "dataframe_list = []\n",
    "for post_id in df['post_id'].unique():\n",
    "    dataframe = df[df['post_id'] == post_id]\n",
    "    dataframe_list.append(dataframe)\n",
    "    post_id_dict[post_id] = dataframe"
   ]
  },
  {
   "cell_type": "code",
   "execution_count": 15,
   "metadata": {},
   "outputs": [],
   "source": [
    "def create_graph_from_dataframe(dataframe):\n",
    "    graph = ig.Graph(directed=True)\n",
    "    graph.add_vertex(name='root', label='root')\n",
    "    for comment in dataframe.iterrows():\n",
    "        if comment[1]['comment_user_name'] not in graph.vs['name']:\n",
    "            graph.add_vertex(name=comment[1]['comment_user_name'], label=comment[1]['comment_user_name'])\n",
    "        if comment[1]['commented_user_name'] not in graph.vs['name']:\n",
    "            graph.add_vertex(name=comment[1]['commented_user_name'], label=comment[1]['commented_user_name'])\n",
    "        graph.add_edge(comment[1]['comment_user_name'], comment[1]['commented_user_name'])\n",
    "    \n",
    "    graph.delete_vertices('root')\n",
    "    return graph\n",
    "\n",
    "post_id_graph = {}\n",
    "for dataframe in dataframe_list:\n",
    "    graph = create_graph_from_dataframe(dataframe)\n",
    "    post_id_graph[dataframe['post_id'].iloc[0]] = graph"
   ]
  },
  {
   "cell_type": "markdown",
   "metadata": {},
   "source": [
    "# Metriche di valutazione dei grafi di dibattitio"
   ]
  },
  {
   "cell_type": "markdown",
   "metadata": {},
   "source": [
    "## Metriche sul POST"
   ]
  },
  {
   "cell_type": "markdown",
   "metadata": {},
   "source": [
    "### Calcolo dell' average degree\n",
    "Calcolando l'average degree di ciascun post, è possibile farsi un'idea generale di quanto gli utenti tendono ad interagire tra di loro "
   ]
  },
  {
   "cell_type": "code",
   "execution_count": 16,
   "metadata": {},
   "outputs": [],
   "source": [
    "def degree_distribution(graph):\n",
    "    degree = graph.degree()\n",
    "    n = graph.vcount()\n",
    "    degree = np.array(degree)\n",
    "\n",
    "    return 1/n * sum(degree)"
   ]
  },
  {
   "cell_type": "markdown",
   "metadata": {},
   "source": [
    "### Distribuzione dei gradi\n",
    "Questo grafico ci permette di osservare la distribuzione dei gradi di ogni nodo all'interno del grafo, offrendo una visione chiara del livello di interazione degli utenti. **Qual è la percentuale di utenti che hanno interagito poco/tanto con il post?**"
   ]
  },
  {
   "cell_type": "code",
   "execution_count": 17,
   "metadata": {},
   "outputs": [],
   "source": [
    "def compute_degree_distribution(graph):\n",
    "    degree = graph.degree()\n",
    "    x = np.unique(degree)\n",
    "    degree = np.array(degree)\n",
    "    y = []\n",
    "    for i in x:\n",
    "        y.append(sum(degree == i)/ len(degree)) \n",
    "    return x, y"
   ]
  },
  {
   "cell_type": "code",
   "execution_count": 18,
   "metadata": {},
   "outputs": [
    {
     "name": "stdout",
     "output_type": "stream",
     "text": [
      "Post:1cwqkqe as average degree of 5.029411764705882\n",
      "Post:10v8sey as average degree of 4.92929292929293\n",
      "Post:1b6cg4q as average degree of 4.777777777777778\n",
      "Post:1bulhj9 as average degree of 5.092783505154639\n",
      "Post:197vo6o as average degree of 3.0625\n",
      "Post:19aeo2k as average degree of 3.4545454545454546\n",
      "Post:17z2hci as average degree of 5.663157894736842\n",
      "Post:1d5h5h6 as average degree of 4.3896103896103895\n",
      "Post:17lese9 as average degree of 5.069767441860465\n"
     ]
    },
    {
     "data": {
      "image/png": "[encoded data removed]",
      "text/plain": [
       "<Figure size 640x480 with 1 Axes>"
      ]
     },
     "metadata": {},
     "output_type": "display_data"
    }
   ],
   "source": [
    "for post_graph in post_id_graph:\n",
    "    print(f'Post:{post_graph} as average degree of {degree_distribution(post_id_graph[post_graph])}')\n",
    "    x, y = compute_degree_distribution(post_id_graph[post_graph])\n",
    "    plt.scatter(x, y)\n",
    "    plt.xlabel('Degree')\n",
    "    plt.ylabel('Probability')\n",
    "    plt.title('Degree distribution')\n",
    "\n",
    "plt.legend(post_id_graph.keys())\n",
    "plt.show()"
   ]
  },
  {
   "cell_type": "markdown",
   "metadata": {},
   "source": [
    "## Metriche sul Dibattito"
   ]
  },
  {
   "cell_type": "markdown",
   "metadata": {},
   "source": [
    "### Coefficiente di clustering medio\n",
    "Tramite il coefficiente di clustring medio possiamo ottenere una misura golbale del grado di coesione degli utenti all'interno della dibattito, ovvero quanto gli utenti hanno interagito tra di loro all'interno della discussione in questione."
   ]
  },
  {
   "cell_type": "code",
   "execution_count": 19,
   "metadata": {},
   "outputs": [],
   "source": [
    "def compute_average_clustering_coefficient(graph):\n",
    "    clustering_medio = graph.transitivity_avglocal_undirected()\n",
    "    if clustering_medio != clustering_medio:\n",
    "        clustering_medio = 0.0\n",
    "    \n",
    "    return clustering_medio"
   ]
  },
  {
   "cell_type": "code",
   "execution_count": 20,
   "metadata": {},
   "outputs": [],
   "source": [
    "for post_df in post_id_dict.values():\n",
    "    post_id = post_df['post_id'].iloc[0]\n",
    "    for debate_id in post_df['debate_group'].unique():\n",
    "        if debate_id != '0':\n",
    "            debate_df = post_df[post_df['debate_group'] == debate_id]\n",
    "            graph = create_graph_from_dataframe(debate_df)"
   ]
  },
  {
   "cell_type": "code",
   "execution_count": 22,
   "metadata": {},
   "outputs": [
    {
     "name": "stdout",
     "output_type": "stream",
     "text": [
      "1_Post:1cwqkqe Debate:1  Relevance:8.5\n",
      "2_Post:1cwqkqe Debate:2  Relevance:116.73436471362739\n",
      "3_Post:1cwqkqe Debate:3  Relevance:7.0\n",
      "4_Post:10v8sey Debate:4  Relevance:148.43105216296706\n",
      "5_Post:10v8sey Debate:5  Relevance:11.5\n",
      "6_Post:10v8sey Debate:6  Relevance:7.0\n",
      "7_Post:10v8sey Debate:7  Relevance:12.0\n",
      "8_Post:10v8sey Debate:8  Relevance:7.0\n",
      "9_Post:10v8sey Debate:9  Relevance:8.8\n",
      "10_Post:1b6cg4q Debate:10  Relevance:126.0712037037037\n",
      "11_Post:1b6cg4q Debate:11  Relevance:15.045454545454545\n",
      "12_Post:1b6cg4q Debate:12  Relevance:16.0\n",
      "13_Post:1b6cg4q Debate:13  Relevance:17.5\n",
      "14_Post:1b6cg4q Debate:14  Relevance:8.5\n",
      "15_Post:1b6cg4q Debate:15  Relevance:5.5\n",
      "16_Post:1bulhj9 Debate:16  Relevance:143.51146645021646\n",
      "17_Post:1bulhj9 Debate:17  Relevance:11.833333333333332\n",
      "18_Post:1bulhj9 Debate:18  Relevance:17.772727272727273\n",
      "19_Post:1bulhj9 Debate:19  Relevance:8.5\n",
      "20_Post:1bulhj9 Debate:20  Relevance:8.5\n",
      "21_Post:1bulhj9 Debate:21  Relevance:4.0\n",
      "22_Post:1bulhj9 Debate:22  Relevance:5.5\n",
      "23_Post:1bulhj9 Debate:23  Relevance:7.0\n",
      "24_Post:197vo6o Debate:24  Relevance:25.176470588235293\n",
      "25_Post:197vo6o Debate:25  Relevance:5.5\n",
      "26_Post:197vo6o Debate:26  Relevance:5.0\n",
      "27_Post:197vo6o Debate:27  Relevance:16.40909090909091\n",
      "28_Post:19aeo2k Debate:28  Relevance:6.166666666666666\n",
      "29_Post:19aeo2k Debate:29  Relevance:6.0\n",
      "30_Post:19aeo2k Debate:30  Relevance:26.125\n",
      "31_Post:19aeo2k Debate:31  Relevance:4.0\n",
      "32_Post:19aeo2k Debate:32  Relevance:14.0\n",
      "33_Post:19aeo2k Debate:33  Relevance:5.0\n",
      "34_Post:19aeo2k Debate:34  Relevance:5.5\n",
      "35_Post:17z2hci Debate:35  Relevance:182.99597794495756\n",
      "36_Post:17z2hci Debate:36  Relevance:5.0\n",
      "37_Post:17z2hci Debate:37  Relevance:5.0\n",
      "38_Post:1d5h5h6 Debate:38  Relevance:5.0\n",
      "39_Post:1d5h5h6 Debate:39  Relevance:17.6\n",
      "40_Post:1d5h5h6 Debate:40  Relevance:31.741964285714285\n",
      "41_Post:1d5h5h6 Debate:41  Relevance:76.74932659932661\n",
      "42_Post:1d5h5h6 Debate:42  Relevance:6.166666666666666\n",
      "43_Post:1d5h5h6 Debate:43  Relevance:7.0\n",
      "44_Post:17lese9 Debate:44  Relevance:79.36907841837238\n",
      "45_Post:17lese9 Debate:45  Relevance:4.0\n"
     ]
    }
   ],
   "source": [
    "def compute_debate_relevance(debate, graph):\n",
    "    n_graph_nodes = graph.vcount()\n",
    "    n_graph_edges = graph.ecount()\n",
    "    n_nodes = debate.vcount()/n_graph_nodes\n",
    "    n_edges = debate.ecount()/n_graph_edges\n",
    "    avg_degree = degree_distribution(debate)\n",
    "    clustering_coefficient = compute_average_clustering_coefficient(debate)\n",
    "    return n_nodes + n_edges + avg_degree + clustering_coefficient\n",
    "i = 1\n",
    "for post_df in post_id_dict.values():\n",
    "    post_id = post_df['post_id'].iloc[0]\n",
    "    for debate_id in post_df['debate_group'].unique():\n",
    "        if debate_id != '0':\n",
    "            debate_df = post_df[post_df['debate_group'] == debate_id]\n",
    "            debate_graph = create_graph_from_dataframe(debate_df)\n",
    "            relevance = compute_debate_relevance(debate_graph, graph)\n",
    "            print(f'{i}_Post:{post_id} Debate:{debate_id}  Relevance:{relevance}')\n",
    "            i+=1"
   ]
  }
 ],
 "metadata": {
  "kernelspec": {
   "display_name": "reddit_debate_venv",
   "language": "python",
   "name": "python3"
  },
  "language_info": {
   "codemirror_mode": {
    "name": "ipython",
    "version": 3
   },
   "file_extension": ".py",
   "mimetype": "text/x-python",
   "name": "python",
   "nbconvert_exporter": "python",
   "pygments_lexer": "ipython3",
   "version": "3.10.8"
  }
 },
 "nbformat": 4,
 "nbformat_minor": 2
}
