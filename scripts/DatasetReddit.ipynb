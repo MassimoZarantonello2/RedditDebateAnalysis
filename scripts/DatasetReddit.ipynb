{
  "cells": [
    {
      "cell_type": "markdown",
      "metadata": {},
      "source": [
        "# Creazione del dataset con PRAW"
      ]
    },
    {
      "cell_type": "markdown",
      "metadata": {},
      "source": [
        "## Collegamento al profilo"
      ]
    },
    {
      "cell_type": "code",
      "execution_count": 18,
      "metadata": {
        "id": "HvwPuVvm_1jF"
      },
      "outputs": [],
      "source": [
        "import praw\n",
        "from dotenv import load_dotenv\n",
        "load_dotenv()\n",
        "import os\n",
        "import pandas as pd\n",
        "import csv\n",
        "import igraph as ig\n",
        "from RedditResponse import RedditResponse"
      ]
    },
    {
      "cell_type": "code",
      "execution_count": 19,
      "metadata": {},
      "outputs": [],
      "source": [
        "reddit = praw.Reddit(\n",
        "    client_id=os.getenv('reddit_client_id'),\n",
        "    client_secret=os.getenv('reddit_client_secret'),\n",
        "    user_agent=os.getenv('reddit_user_agent'),\n",
        "    password=os.getenv('reddit_password'),\n",
        "    username=os.getenv('reddit_username'))"
      ]
    },
    {
      "cell_type": "markdown",
      "metadata": {},
      "source": [
        "## reddit_comments"
      ]
    },
    {
      "cell_type": "code",
      "execution_count": 25,
      "metadata": {},
      "outputs": [],
      "source": [
        "def extract_comments(comment,post_id):\n",
        "    comment_id = comment.id\n",
        "    comment_body = comment.body\n",
        "    comment_score = comment.score\n",
        "    comment_replies = len(comment.replies)\n",
        "    created_utc = comment.created_utc\n",
        "    comment_author_name = comment.author.name if comment.author else \"deleted\"\n",
        "    comment_author_id = comment.author.id if comment.author else \"deleted\"\n",
        "    parent_author = comment.parent()\n",
        "    if parent_author.id == post_id:\n",
        "        parent_author_name = \"OP\"\n",
        "        parent_author_id = \"0\"\n",
        "    else:\n",
        "        parent_author_name = parent_author.author.name if parent_author and parent_author.author else \"deleted\"\n",
        "        parent_author_id = parent_author.author.id if parent_author and parent_author.author else \"deleted\"\n",
        "    return comment_id, comment_body, comment_score, comment_replies, created_utc, comment_author_id, comment_author_name, parent_author_id, parent_author_name"
      ]
    },
    {
      "cell_type": "code",
      "execution_count": 26,
      "metadata": {
        "colab": {
          "base_uri": "https://localhost:8080/"
        },
        "id": "oEcnJ9Yad15G",
        "outputId": "441b3c9a-0227-4454-97f5-6a1a64d87db5"
      },
      "outputs": [
        {
          "name": "stdout",
          "output_type": "stream",
          "text": [
            "Processing post Nel 2022 i tassisti hanno dichiarato in media un reddito di 15.500€\n",
            "Processed 100.00% of comments\r"
          ]
        }
      ],
      "source": [
        "post_ids = ['1djj36w']\n",
        "\n",
        "fieldnames = [\n",
        "    'comment_id', \n",
        "    'comment_author_id', \n",
        "    'comment_author_name', \n",
        "    'comment_parent_id', \n",
        "    'comment_parent_name', \n",
        "    'comment_score', \n",
        "    'comment_replies', \n",
        "    'comment_posted_time', \n",
        "    'comment_body',\n",
        "    'post_id',\n",
        "    'post_title',\n",
        "    'post_url',\n",
        "    'post_subreddit'\n",
        "]\n",
        "# Open the file in append mode\n",
        "with open('reddit_comments.csv', 'w+', newline='', encoding='utf-8') as f:\n",
        "    writer = csv.DictWriter(f, fieldnames=fieldnames, quoting=csv.QUOTE_MINIMAL)\n",
        "    writer.writeheader()\n",
        "\n",
        "    for post_id in post_ids:\n",
        "        rows = []\n",
        "        i = 1\n",
        "        submission = reddit.submission(post_id)\n",
        "        submission.comments.replace_more(limit=30)\n",
        "        post_title = submission.title\n",
        "        post_id = submission.id\n",
        "        post_url = submission.url\n",
        "        post_subreddit = submission.subreddit.name\n",
        "        comments = submission.comments.list()\n",
        "        length = len(comments)\n",
        "        print(f\"Processing post {post_title}\\n\", end='\\r')\n",
        "        for comment in comments:\n",
        "            print(f\"Processed {(i/length*100):.2f}% of comments\", end='\\r')\n",
        "            try:\n",
        "                comment_id, comment_body, comment_score, comment_replies, created_utc, comment_author_id, comment_author_name, parent_author_id, parent_author_name = extract_comments(comment,post_id)\n",
        "                row = {\n",
        "                    'comment_id' : comment_id, \n",
        "                    'comment_author_id' : comment_author_id,\n",
        "                    'comment_author_name' : comment_author_name,\n",
        "                    'comment_parent_id' : parent_author_id,\n",
        "                    'comment_parent_name' : parent_author_name,\n",
        "                    'comment_score' : comment_score,\n",
        "                    'comment_replies' : comment_replies,\n",
        "                    'comment_posted_time' : created_utc,\n",
        "                    'comment_body'  : comment_body,\n",
        "                    'post_id' : post_id,\n",
        "                    'post_title' : post_title,\n",
        "                    'post_url' : post_url,\n",
        "                    'post_subreddit' : post_subreddit\n",
        "                }\n",
        "                rows.append(row)\n",
        "            except Exception as e:\n",
        "                pass\n",
        "            i += 1\n",
        "        writer.writerows(rows)"
      ]
    },
    {
      "cell_type": "code",
      "execution_count": 27,
      "metadata": {},
      "outputs": [
        {
          "name": "stdout",
          "output_type": "stream",
          "text": [
            "54\n"
          ]
        }
      ],
      "source": [
        "print(len(rows))"
      ]
    }
  ],
  "metadata": {
    "colab": {
      "provenance": []
    },
    "kernelspec": {
      "display_name": "Python 3",
      "name": "python3"
    },
    "language_info": {
      "codemirror_mode": {
        "name": "ipython",
        "version": 3
      },
      "file_extension": ".py",
      "mimetype": "text/x-python",
      "name": "python",
      "nbconvert_exporter": "python",
      "pygments_lexer": "ipython3",
      "version": "3.10.12"
    }
  },
  "nbformat": 4,
  "nbformat_minor": 0
}
