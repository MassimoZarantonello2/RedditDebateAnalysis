{
 "cells": [
  {
   "cell_type": "code",
   "execution_count": 20,
   "metadata": {},
   "outputs": [],
   "source": [
    "import praw\n",
    "from dotenv import load_dotenv\n",
    "load_dotenv()\n",
    "import os\n",
    "import pandas as pd\n",
    "import csv\n",
    "import igraph as ig\n",
    "\n",
    "reddit = praw.Reddit(\n",
    "    client_id=os.getenv('reddit_client_id'),\n",
    "    client_secret=os.getenv('reddit_client_secret'),\n",
    "    user_agent=os.getenv('reddit_user_agent'),\n",
    "    password=os.getenv('reddit_password'),\n",
    "    username=os.getenv('reddit_username'))"
   ]
  },
  {
   "cell_type": "code",
   "execution_count": 21,
   "metadata": {},
   "outputs": [
    {
     "name": "stdout",
     "output_type": "stream",
     "text": [
      "152\n"
     ]
    }
   ],
   "source": [
    "submission = reddit.submission('1diog3i')\n",
    "submission.comments.replace_more(limit=10)\n",
    "print(len(submission.comments.list()))"
   ]
  },
  {
   "cell_type": "code",
   "execution_count": 22,
   "metadata": {},
   "outputs": [],
   "source": [
    "class RedditResponse:\n",
    "    comment_id = '-1'\n",
    "    comment_body = ''\n",
    "    comment_author_id = '-1'\n",
    "    comment_author_name = ''\n",
    "    comment_parent_id = '-1'\n",
    "    comment_parten_name = ''\n",
    "    comment_posted_time = ''\n",
    "    comment_score = 0\n",
    "\n",
    "\n",
    "    def __init__(self, comment_id, comment_body, comment_author_id, comment_author_name, comment_parent_id, comment_parent_name, comment_posted_time, comment_score):\n",
    "        self.comment_id = comment_id\n",
    "        self.comment_body = comment_body\n",
    "        self.comment_author_id = comment_author_id\n",
    "        self.comment_author_name = comment_author_name\n",
    "        self.comment_parent_id = comment_parent_id\n",
    "        self.comment_parent_name = comment_parent_name\n",
    "        self.comment_posted_time = comment_posted_time\n",
    "        self.comment_score = comment_score\n",
    "\n",
    "    def to_dict(self):\n",
    "        return {\n",
    "            'comment_id': self.comment_id,\n",
    "            'comment_author_id': self.comment_author_id,\n",
    "            'comment_author_name': self.comment_author_name,\n",
    "            'comment_parent_id': self.comment_parent_id,\n",
    "            'comment_parten_name': self.comment_parent_name,\n",
    "            'comment_body': self.comment_body,\n",
    "            'comment_posted_time': self.comment_posted_time,\n",
    "            'comment_score': self.comment_score\n",
    "        }"
   ]
  },
  {
   "cell_type": "code",
   "execution_count": 23,
   "metadata": {},
   "outputs": [
    {
     "name": "stdout",
     "output_type": "stream",
     "text": [
      "151/152\r"
     ]
    }
   ],
   "source": [
    "reddit_comments_dict_list = []\n",
    "i = 0\n",
    "c = len(submission.comments.list())\n",
    "for comment in submission.comments.list():\n",
    "    if comment.parent() is not None:\n",
    "        try:\n",
    "            r = RedditResponse(\n",
    "                comment_id = comment.id,\n",
    "                comment_body = comment.body,\n",
    "                comment_author_id = comment.author.id,\n",
    "                comment_author_name = comment.author.name,\n",
    "                comment_parent_id = comment.parent().author.id,\n",
    "                comment_parent_name = comment.parent().author.name,\n",
    "                comment_posted_time = comment.created_utc,\n",
    "                comment_score = comment.score\n",
    "            )\n",
    "            reddit_comments_dict_list.append(r.to_dict())\n",
    "            print(f'{i}/{c}', end='\\r')\n",
    "            i += 1\n",
    "        except:\n",
    "            print('error')\n",
    "            continue\n",
    "\n",
    "df = pd.DataFrame(reddit_comments_dict_list)\n",
    "df.to_csv('reddit_comments.csv', index=False)"
   ]
  }
 ],
 "metadata": {
  "kernelspec": {
   "display_name": "data_anlytics_venv",
   "language": "python",
   "name": "python3"
  },
  "language_info": {
   "codemirror_mode": {
    "name": "ipython",
    "version": 3
   },
   "file_extension": ".py",
   "mimetype": "text/x-python",
   "name": "python",
   "nbconvert_exporter": "python",
   "pygments_lexer": "ipython3",
   "version": "3.10.12"
  }
 },
 "nbformat": 4,
 "nbformat_minor": 2
}
